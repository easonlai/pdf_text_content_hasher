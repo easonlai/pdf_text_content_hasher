{
 "cells": [
  {
   "cell_type": "markdown",
   "id": "731fcc23",
   "metadata": {},
   "source": [
    "# Extract PDF Text Content and Perform Hashing"
   ]
  },
  {
   "cell_type": "code",
   "execution_count": 1,
   "id": "dbaeb17c",
   "metadata": {},
   "outputs": [],
   "source": [
    "# Import necessary libraries\n",
    "import pdfplumber\n",
    "import hashlib\n",
    "from cryptography.fernet import Fernet"
   ]
  },
  {
   "cell_type": "code",
   "execution_count": 2,
   "id": "1b7a314c",
   "metadata": {},
   "outputs": [],
   "source": [
    "# Read source pdf file and extract text content inside\n",
    "with pdfplumber.open(\"data/Azure_Functions_Overview _ Microsoft_Docs.pdf\") as pdf:\n",
    "    pdf_all_text = ''\n",
    "    for pdf_page in pdf.pages:\n",
    "           single_page_text = pdf_page.extract_text()\n",
    "           # separate each page text by with newline\n",
    "           pdf_all_text = pdf_all_text + '\\n' + single_page_text"
   ]
  },
  {
   "cell_type": "code",
   "execution_count": 3,
   "id": "bebe1d23",
   "metadata": {},
   "outputs": [
    {
     "name": "stdout",
     "output_type": "stream",
     "text": [
      "\n",
      "9/30/21, 3:55 PM Azure Functions Overview | Microsoft Docs\n",
      "Introduction to Azure Functions\n",
      "11/20/2020 • 2 minutes to read • +22\n",
      "In this article\n",
      "Scenarios\n",
      "Next Steps\n",
      "Azure Functions is a serverless solution that allows you to write less code, maintain less\n",
      "infrastructure, and save on costs. Instead of worrying about deploying and maintaining\n",
      "servers, the cloud infrastructure provides all the up-to-date resources needed to keep your\n",
      "applications running.\n",
      "You focus on the pieces of code that matter most to you, and Azure Functions handles the\n",
      "rest. \n",
      "AAzzuurree  FFuunnccttiioonnss  OOvveerrvviieeww\n",
      "We often build systems to react to a series of critical events. Whether you're building a web\n",
      "API, responding to database changes, processing IoT data streams, or even managing\n",
      "message queues - every application needs a way to run some code as these events occur.\n",
      "To meet this need, Azure Functions provides \"compute on-demand\" in two significant\n",
      "ways.\n",
      "https://docs.microsoft.com/en-us/azure/azure-functions/functions-overview 1/4\n",
      "9/30/21, 3:55 PM Azure Functions Overview | Microsoft Docs\n",
      "First, Azure Functions allows you to implement your system's logic into readily available\n",
      "blocks of code. These code blocks are called \"functions\". Different functions can run\n",
      "anytime you need to respond to critical events.\n",
      "Second, as requests increase, Azure Functions meets the demand with as many resources\n",
      "and function instances as necessary - but only while needed. As requests fall, any extra\n",
      "resources and application instances drop off automatically.\n",
      "Where do all the compute resources come from? Azure Functions provides as many or as\n",
      "few compute resources as needed to meet your application's demand.\n",
      "Providing compute resources on-demand is the essence of serverless computing  in\n",
      "Azure Functions.\n",
      "Scenarios\n",
      "In many cases, a function integrates with an array of cloud services to provide feature-rich\n",
      "implementations.\n",
      "The following are a common, but by no means exhaustive, set of scenarios for Azure\n",
      "Functions.\n",
      "If you want to... then...\n",
      "Build a web API Implement an endpoint for your web applications using the\n",
      "HTTP trigger\n",
      "Process file uploads Run code when a file is uploaded or changed in blob storage\n",
      "Build a serverless workflow Chain a series of functions together using durable functions\n",
      "Respond to database changes Run custom logic when a document is created or updated in\n",
      "Cosmos DB\n",
      "Run scheduled tasks Execute code on pre-defined timed intervals\n",
      "Create reliable message queue Process message queues using Queue Storage, Service Bus,\n",
      "systems or Event Hubs\n",
      "Analyze IoT data streams Collect and process data from IoT devices\n",
      "Process data in real time Use Functions and SignalR to respond to data in the moment\n",
      "https://docs.microsoft.com/en-us/azure/azure-functions/functions-overview 2/4\n",
      "9/30/21, 3:55 PM Azure Functions Overview | Microsoft Docs\n",
      "As you build your functions, you have the following options and resources available:\n",
      "Use your preferred language: Write functions in C#, Java, JavaScript, PowerShell, or\n",
      "Python, or use a custom handler to use virtually any other language.\n",
      "Automate deployment: From a tools-based approach to using external pipelines,\n",
      "there's a myriad of deployment options available.\n",
      "Troubleshoot a function: Use monitoring tools and testing strategies to gain insights\n",
      "into your apps.\n",
      "Flexible pricing options: With the Consumption plan, you only pay while your\n",
      "functions are running, while the Premium and App Service plans offer features for\n",
      "specialized needs.\n",
      "Next Steps\n",
      "Get started through lessons, samples, and interactive tutorials\n",
      "Is this page helpful?\n",
      " Yes    No\n",
      "Recommended content\n",
      "Getting started with Azure Functions\n",
      "Take the first steps toward working with Azure Functions.\n",
      "Azure Functions pricing\n",
      "Learn how billing works for Azure Functions.\n",
      "Estimating Consumption plan costs in Azure Functions\n",
      "Learn how to better estimate the costs that you may incur when running your function app in a\n",
      "Consumption plan in Azure.\n",
      "https://docs.microsoft.com/en-us/azure/azure-functions/functions-overview 3/4\n",
      "9/30/21, 3:55 PM Azure Functions Overview | Microsoft Docs\n",
      "Durable Functions Overview - Azure\n",
      "Introduction to the Durable Functions extension for Azure Functions.\n",
      "Show more Ｓ\n",
      "https://docs.microsoft.com/en-us/azure/azure-functions/functions-overview 4/4\n"
     ]
    }
   ],
   "source": [
    "# Display extracted text from pdf file\n",
    "print(pdf_all_text)"
   ]
  },
  {
   "cell_type": "code",
   "execution_count": 4,
   "id": "53aa722e",
   "metadata": {},
   "outputs": [],
   "source": [
    "# Define the function for Fernet key generation and creation\n",
    "def write_key():\n",
    "    key = Fernet.generate_key()\n",
    "    with open(\"key.key\", \"wb\") as key_file:\n",
    "        key_file.write(key)"
   ]
  },
  {
   "cell_type": "code",
   "execution_count": 5,
   "id": "a8104cfd",
   "metadata": {},
   "outputs": [],
   "source": [
    "# Define the function for Fernet key loading\n",
    "def load_key():\n",
    "    return open(\"key.key\", \"rb\").read()"
   ]
  },
  {
   "cell_type": "code",
   "execution_count": 6,
   "id": "8df446cc",
   "metadata": {},
   "outputs": [],
   "source": [
    "# Generate and create a new key\n",
    "# write_key()"
   ]
  },
  {
   "cell_type": "code",
   "execution_count": 7,
   "id": "aea51e52",
   "metadata": {},
   "outputs": [],
   "source": [
    "# Load the existing key\n",
    "key = load_key()"
   ]
  },
  {
   "cell_type": "code",
   "execution_count": 8,
   "id": "d7c5f95c",
   "metadata": {},
   "outputs": [],
   "source": [
    "# Encode text from pdf before encryption\n",
    "pdf_all_text_encode = pdf_all_text.encode()"
   ]
  },
  {
   "cell_type": "code",
   "execution_count": 9,
   "id": "0df65665",
   "metadata": {},
   "outputs": [],
   "source": [
    "# Initialize the Fernet class\n",
    "f = Fernet(key)"
   ]
  },
  {
   "cell_type": "code",
   "execution_count": 11,
   "id": "a3ec4295",
   "metadata": {},
   "outputs": [],
   "source": [
    "# Encrypt encoded text by using Fernet (symmetric encryption)\n",
    "# Specification of Fernet : https://github.com/fernet/spec/blob/master/Spec.md\n",
    "pdf_all_text_encode_encrypted = f.encrypt(pdf_all_text_encode)"
   ]
  },
  {
   "cell_type": "code",
   "execution_count": 12,
   "id": "b9348da4",
   "metadata": {
    "scrolled": true
   },
   "outputs": [
    {
     "name": "stdout",
     "output_type": "stream",
     "text": [
      "b'gAAAAABhVYt5jWr5urZervdfmA4GCK5V2WO96YIKfdbruGs428l8FTnD_ipWT3ASHq4lgO5TgYciy2jq9uMIKJhv-jkmNufPbkDIR0jJc57_GPlvG-dyXIYIOClbZuE54HftiEiXuRBad7A1sRfXQDkabx_vW5yFQskllPo1wAEOOBhG0TzZuszsuQ3hczE7747M9tPqNE2zD3TOrQ3YG3tb4mw55JfsJgnxCa-0klU5YxIf8Rnnd12ukNtVR2CRdJ17LNaAb1WgE2gOsyRzI_MIDg8VLGJTz5u9EEF0ee8kZUTobro7s9B29Qt-ge7QQiGhw-kdozVf1w8FZb1gJ2TTLluV_kYtQUONzgvMx_djV_bRYZ0409SSr9eVIIUyH-9-fMTjcluCEvO8d9xPVwkuhooJC7VX-SFnP5R_zZHVbprAyNE9cOXb4GTS_kZAxwz955SykkhuzbCfnVqBBIBj9XpHM-YZlZp8wQUH0O8YbuIz8MxSZSRnlVvuZCyz67LfGNyb1fxseEuObGA7iMyB3U_wadWYmBSDOJuXpwJ1AtU8FA9jyBVPw9QjpTNHROtcwkQRSj84NkEHdTNuZKtIy6ilNn2jwnk-UizABxaYn-CgLKrbbUYfRlUzaO0QJYgXxc7vTuo8lbi-eW5oDXq3F2NhxsfoLKgBdUXEKaccQkHZOnU-yMeIwqsYE17vcUjwMnLzJ6wySfFKh0M3bHZ7hHh4zMTOsVJRIFpRDhJ7LFYmsV5Tml137OW3vnNof6E361MDNA7cBdz3ryKxB9ClplUSbsg1lvIECFjTiCPoAfFwRjDYNQp3DE0xXpfcyfCK-PCRrr-fZt_X_qsws4rilVsJNoA3IVQ5VmIUdjUZd5Z7CqWkRl29Kh18tSJcpgrb5skCqyO9Zz4CH6xgbutCTiSn6d9pmUnASXpDEHW5_wzjUBLxGC28QyZq4dcB9NnceJCyODPDJNNj0ZjRbjMz12rJaQirc94eZ1nvJJIAw-1hnyi_wG4feF8LEWDY4Kl-7Efgqw2zL7J_7AG7Oob6Y4J6yEvbnT7H3pMRio1LRsaXzs71a98i8XMI_di-m7YGbpsmbUQaS-0jkfB4ePJG_7OnzYcOrzGbZzEWzHhTo5usUWzJEdTqYZryXGqAJlEn5RrALZxdKoO2OxXpek5vYWFZYpdeqc_Jxmw5F4ogcIZthlwi8r0fbxA1iUN4lgIvwVwJDa18kfmgQrCl3M2qMYZlLSeavQ2OB5GVvxkkfbBj5KTTyuFGsvU_LaeeqYtx32qLu4ZDi1nEZzDxLXR_j8MDwhiWXp8R9dl5IwfnDvnSSfupNGogEN-pg9I8cabHPmG7fwlrBQel80TWGGpuBdORbeLnsDX2C3W9zdzVx1n8qts2MQEBhLSE7VnxCxTtDPrTKpWTKv4IFPSQ18eiivE3BP1mDJrGY-RaK4XdwK-fKFLge2D_-idhObkWPQgSwJHXt1ycHZs0zX7ylthjy48FyAz8xWGv6MeN5ZrrVPxqVWnho3RJSRRvosiDikw9vJlXVMC6ePmpu-KEQHbrjhLzzlw3q06meTxZ-qfSSvyhqFXHkkra7Vfubyk_8lRHMUCJmq4n16zfZJPmUzqIbFm90kDUg8V7xq-d-jbNEV7EyK2ePvH71YhJ0kvCF5duFuFdxytd8ilTT0gs-3zBecMowdujlHDv5mquLnnOPeR9zukA90Z73Qm62jBhHFdV4O1t-h9l_zG0SiirwMPUBo_TJa-jmGt608HahcF3RNgrnFsTV5M9H-cj4rJdxMSYrazhhoM16URrA-8KDyvUWPQDp_m4z0NqTIaK9tAPno6XxchzUt1xS-qEc7H_2kTmbZkuR547-9hQDanzdCyYsi1DjVclXINjdEiRo9YmFN5XdJmT19qsoD68V_ILO3hQTL1nkIuZtQSCWmwpd2xBHoS-OOdyKUrOl-kUeUu3VrSGuGj6K3WcaPTYgGIIHqHE2Y4b3rViWZ02B8tdutG-eBn96PnrK2PYc0OhSCDs_IhPSALe31Cy-hm_QDgTG-C9p59V6MxlJNSwqPo_tfKfbNJypxOav2oGHrrfL0lt_k0SuvSsgJifYHmdENZ464qF_AwfLrgLk-z23JOjvHhHmFShoPwuVyaeZNbSFiTf5XvJWoM3MoKtcxjk9PhkeqK9iiuKrp6nnxPWtXXaeEjrqpjV1iCy6dBxwz3UlA3P0fcpjqNQjxzn-WkF-ZXFG5_YkCIAtuM_reagtAMoE1KvfppTQpx5JWsyn2KRu1bXgOHBFL6Bxr86Jiv7gwjn1YFbhnigdQBxcFzroW6wl_VXhv7gQi6glD4a7iGZqnU6eY1bN-vUZNWmvbvBVLgXB7t8DPkDqmXy4io6Y17SyBpydnv0XQ9qm2_Th2xLamCPkB3IUZ7j5jE8nGZyCFegE78bZHvlTPIjIVLeWUSJ2bI85Ed_s6156CZg3cy72OR4cksisasTMX7sf9HWblf_4g36qJepjxYxfN2OLNeT_rEVdDJub-VnfahtLDltXXob85NIchLihu8ESYlNEsDBbNXJTJDpNKBpyOJcsPNPltngzZV-XkO2PflRZWJWulwgo3qPM3_KN7Sj28CxU0Ibhm7P2xMV1Lwk-G5TiTIw6jgpBjJvZNvPWcnKxcr1t5xjRrwPcd9JPhiRQWt56xFDeSsUAnf5rK7u_7Sj6q6TtclOfaEk2tGk3VUOTUND4E4RPdwo3S7Y_1q08YqnS2ulAYgE0pW254IiTixksH6nc_pPYnImaCLE3d7Px-2xq_3BtiQoUs3ZLzZuNG0qhWrXbKSSWkvxEBIhVbhOPNj18xoIcuxotZRveOdkZaHKLtrJIA9lEXPvewp7ZjN8OvP-Y7CdYjrP-bHvHgSJ6432Ft4ZFU1ZZ8GxxtESSRUiaJKf71KC50SGIwhNtMcDaH5KnRMCCLVZpYgvO7kH-F06FEFuVx6slUttbWh5nTYXczJeEFbRnFn7D-dZ9XGfrqJAeqljNT4cAprZS_-SzQe10OjTJxrg6mhvB12wUNJqF5Bz233GicYCPqgnOo6rEvjXrCgcb6MVzR3dCl6qD_PGtL69GzP74o4NlkUNBG412XigfBeuhBJvSS9gEFIihjLe-hit7JGqUibD9KXg_jR_oQ0bqTbCWOBBpixTNoK8pe8SJn-okJV1PTqicapB5hmYtE_9fEZmC6L3Q0f9gPWrahPmN07tOFqwTQYSlcdL3fv4dd_eHlFTUqdRssYvb8_1JKhLG4G2zHi_FkCRXJsT8B9YcjHkqrhf9USfgvmgy4rXXC20f_2pwU_5yI6M3yQPgaHsyZEejmDOEsj7bEUdPD4yLj6ccrzhWRfXtHNyMkfKVjhUQlp6t5VepVygaFAfh7w0iPiFg6K1cjwicDrzoks2H7RHYtF77JIDBH566taEvRMhC2FfscuUMlPO8b3R3LIyGQKTa9n55JuY5psELUUNVXzB5iybqXFbWtGRhmUDxy6LMavTCYWu96YPn3J4cRzDumVdQTdFTXt6Q3kqLkZ0gK9Zlq__9IKzruPWtLVPS8CZeemjnT01mAtHIUIFJp9IqbNZUL4ZPE8YYvP8ce0LlZMzooUMy-Z1Iafb98HnnR76W83KGsobvbl8ckqdaTEYygUs5pHfJFQ2ZMVLvBfdrob9DQGagh28_5s9EcJcEqgws1iO3mCTV1b8XMpnz2SBsY_CTVAlwMQ18nX8M0zNyUe5t8P930_OuA6ggQaP4qzRju_VqgWvVsitSsJh5jMFRpUhqz9V1nXcTqpslwGIeBoD73qwvnwkZZwcTdSOG-un3WnhD4ASS07VjmSHWILEF02c06zkRkvMFPxDTP6tgF4Ant4RyOiR528cpLcu6xH3TheFQ-hXRFEf0V0pik2NKRWuaSCnwwiWGCi4sPJ146ZPVHQ6eZ9npAs0t2HDLCht82XYjumF9zB83aWTw-3uF42s6VK3RP8jwH9tyL1bCyV2qM1SlSE6ikvOEG_rDrrwYPbigyBpKe48mNDx5WoCA3ZGD9-JwwuxIgeE9_sj2F3AMImRenQmHDPKueIRhz8ZUbOT4fqO1n4H4s7FX2sz5bnX_MIvPmorDowMevi6MJ71s_LdlW9S7U6kNqNqYIA64_gDXtclohUqHjLsnzWCw334DRhHy60Oep2F_mhWTNM4Ir7zhzkgT6y-Z0ARJKmC34JEB8gekx-YSt0GEWROYzrBOQUqMFapS121Kyx5zHy-Hxt8qsq03EuVGF4yUFumyajEnRcinyhu7oInCtfWguYHoDbHHO4i50eMNEsxDpAozeVO-xBfQQNdHPE3hNxiHSBQjkvrdKgH3F0xi9rx-Of5U1R1uIkHxW12Eiwt2z0BeXMPQ0NuDkngYE6VP5BPJ0vCJPA-LZf4u143W9-JMJfM0U6i-rUYfHU1l1uS6LjrREKvmtqBIy-hE8VmH9d5UhoYVo1YOscqW98gOTeoIPv0fk4YArYi58BwHf68v0FA4d6vYKACik16vyeX3ax9BP-0CTmFafyqXXA9TS-Tgs3HRkgDcvYh2-JVyP5EubhNy6ZxUKDokBB8-uyUm1id5tS1fuVcS9aLFf58HJBS9NZJPneU2Z32GARYJau3W_6vIMZHROFAIKHUbf9GzS0p4m1JuNlIwmZd7s8O-XVhXztcQ5UCgNVAxvruoo2iMlG5gRtkKqJ3Fn_YtBXThnsxt0_PM98BJq4PPJ8PIsb2C08lMGppRTpm53WWa5jeG583peSSSIUmlt8jiMzrxyDas5pjds2TbCIfG1ZFz1hLkcqSKghO_xNhrbxecXolphSPWlxJNbHOpHRfEK5rBYhCmsbQSooHg6HCle6DQnhksjFbvT1gWl_j9q-5hlbynP7uyvXIgPVWGXDa2Ai4HKGEM2UYsoJnrkvu_2Jn7rZqx3XRl20ukI3ouASi5Dsmf33Yb64sLtJaHmcfzaopCVO16HdP5MBpYG7J3HYNVK6hy0w1b7EYdc_t1aEtu8D8kS4bVClc7UJW4obCvUeWZdVdCpAELaloMqRMIzTAUFFUgslTgaIGSn1Ff4vX-uyIpvacaXYEV8diHKC_kUDCe8hzxC0o5cTPh1aJ7mHlIuaMrhHBmkCsAGB1YxDmoEvJsTGm_JAHy8vJIiiKBkM0960wP-w4DZeGQxZSKP4CHOwsJyGrecS5xvwYvKJNo2nku7M_qNlUfUWLFiRRlAMXe6tisHYSrSV0pagEMUZsNCwZDcV7T5OB4F7JLTaIwdo-RAvNvtWXOzhMqFyV6jlDqlDuxMg_gPLTmwuLTQiRO8R5f80ahRBT98FrV8QD8jZnyaHNiRbR5xewzqpn_hPL4Ryj2obUMrbvTml8HC4NvmOu4cAwpqs39bK9KPzlfX1bn5035mOBlVcF59H6fECGUcBiCN7PnlmltlXDyYzHNreccnO6IfQNUTh0PoZqeoL1Dq97dXR6iR54E--mmiMyVilIZSZrv_1zESxQ9li5XnEkxMyIPHw6uDIzTAHOubW46eaavhbsYQA-skJoReLoIYAHu_ESLI35cXxHUG8_NLS3Blc7AI_aKdSPvhyGW5IA9KuzLJDHiOgjzz_9sxCZDwHZWbdc2N2msXSwO99R3oo0umPCR9o4rb_h7KPVSwfag9BNhb2wmfW84zz9427S0QvRtsERMlcIiqHFm-ECnhkTWLETgUri6EjD3TdpTMYzrDPSIf5n4KFutiF04Kn-puwoHSB018ysvKyuqXxbWAeXhVOPKswxwwDPMJTYy52ilGQEXQLIr7YO08lngEpERnQF5NrcTg0SJb5GlR-4EUl3dcG8tsaU'\n"
     ]
    }
   ],
   "source": [
    "# Display encrypted text\n",
    "print(pdf_all_text_encode_encrypted)"
   ]
  },
  {
   "cell_type": "code",
   "execution_count": 15,
   "id": "9f6a369a",
   "metadata": {},
   "outputs": [],
   "source": [
    "# Decrypt encrypted text\n",
    "pdf_all_text_encode_decrypted = f.decrypt(pdf_all_text_encode_encrypted)"
   ]
  },
  {
   "cell_type": "code",
   "execution_count": 16,
   "id": "f245f495",
   "metadata": {},
   "outputs": [
    {
     "name": "stdout",
     "output_type": "stream",
     "text": [
      "b'\\n9/30/21, 3:55 PM Azure Functions Overview | Microsoft Docs\\nIntroduction to Azure Functions\\n11/20/2020 \\xe2\\x80\\xa2 2 minutes to read \\xe2\\x80\\xa2 +22\\nIn this article\\nScenarios\\nNext Steps\\nAzure Functions is a serverless solution that allows you to write less code, maintain less\\ninfrastructure, and save on costs. Instead of worrying about deploying and maintaining\\nservers, the cloud infrastructure provides all the up-to-date resources needed to keep your\\napplications running.\\nYou focus on the pieces of code that matter most to you, and Azure Functions handles the\\nrest. \\nAAzzuurree  FFuunnccttiioonnss  OOvveerrvviieeww\\nWe often build systems to react to a series of critical events. Whether you\\'re building a web\\nAPI, responding to database changes, processing IoT data streams, or even managing\\nmessage queues - every application needs a way to run some code as these events occur.\\nTo meet this need, Azure Functions provides \"compute on-demand\" in two significant\\nways.\\nhttps://docs.microsoft.com/en-us/azure/azure-functions/functions-overview 1/4\\n9/30/21, 3:55 PM Azure Functions Overview | Microsoft Docs\\nFirst, Azure Functions allows you to implement your system\\'s logic into readily available\\nblocks of code. These code blocks are called \"functions\". Different functions can run\\nanytime you need to respond to critical events.\\nSecond, as requests increase, Azure Functions meets the demand with as many resources\\nand function instances as necessary - but only while needed. As requests fall, any extra\\nresources and application instances drop off automatically.\\nWhere do all the compute resources come from? Azure Functions provides as many or as\\nfew compute resources as needed to meet your application\\'s demand.\\nProviding compute resources on-demand is the essence of serverless computing  in\\nAzure Functions.\\nScenarios\\nIn many cases, a function integrates with an array of cloud services to provide feature-rich\\nimplementations.\\nThe following are a common, but by no means exhaustive, set of scenarios for Azure\\nFunctions.\\nIf you want to... then...\\nBuild a web API Implement an endpoint for your web applications using the\\nHTTP trigger\\nProcess file uploads Run code when a file is uploaded or changed in blob storage\\nBuild a serverless workflow Chain a series of functions together using durable functions\\nRespond to database changes Run custom logic when a document is created or updated in\\nCosmos DB\\nRun scheduled tasks Execute code on pre-defined timed intervals\\nCreate reliable message queue Process message queues using Queue Storage, Service Bus,\\nsystems or Event Hubs\\nAnalyze IoT data streams Collect and process data from IoT devices\\nProcess data in real time Use Functions and SignalR to respond to data in the moment\\nhttps://docs.microsoft.com/en-us/azure/azure-functions/functions-overview 2/4\\n9/30/21, 3:55 PM Azure Functions Overview | Microsoft Docs\\nAs you build your functions, you have the following options and resources available:\\nUse your preferred language: Write functions in C#, Java, JavaScript, PowerShell, or\\nPython, or use a custom handler to use virtually any other language.\\nAutomate deployment: From a tools-based approach to using external pipelines,\\nthere\\'s a myriad of deployment options available.\\nTroubleshoot a function: Use monitoring tools and testing strategies to gain insights\\ninto your apps.\\nFlexible pricing options: With the Consumption plan, you only pay while your\\nfunctions are running, while the Premium and App Service plans offer features for\\nspecialized needs.\\nNext Steps\\nGet started through lessons, samples, and interactive tutorials\\nIs this page helpful?\\n\\xee\\xa3\\xa1 Yes   \\xee\\xa3\\xa0 No\\nRecommended content\\nGetting started with Azure Functions\\nTake the first steps toward working with Azure Functions.\\nAzure Functions pricing\\nLearn how billing works for Azure Functions.\\nEstimating Consumption plan costs in Azure Functions\\nLearn how to better estimate the costs that you may incur when running your function app in a\\nConsumption plan in Azure.\\nhttps://docs.microsoft.com/en-us/azure/azure-functions/functions-overview 3/4\\n9/30/21, 3:55 PM Azure Functions Overview | Microsoft Docs\\nDurable Functions Overview - Azure\\nIntroduction to the Durable Functions extension for Azure Functions.\\nShow more \\xef\\xbc\\xb3\\nhttps://docs.microsoft.com/en-us/azure/azure-functions/functions-overview 4/4'\n"
     ]
    }
   ],
   "source": [
    "# Display decrypted text\n",
    "print(pdf_all_text_encode_decrypted)"
   ]
  }
 ],
 "metadata": {
  "kernelspec": {
   "display_name": "Python 3",
   "language": "python",
   "name": "python3"
  },
  "language_info": {
   "codemirror_mode": {
    "name": "ipython",
    "version": 3
   },
   "file_extension": ".py",
   "mimetype": "text/x-python",
   "name": "python",
   "nbconvert_exporter": "python",
   "pygments_lexer": "ipython3",
   "version": "3.8.8"
  }
 },
 "nbformat": 4,
 "nbformat_minor": 5
}
